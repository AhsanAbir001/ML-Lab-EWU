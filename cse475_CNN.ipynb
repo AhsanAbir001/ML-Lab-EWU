{
  "nbformat": 4,
  "nbformat_minor": 0,
  "metadata": {
    "colab": {
      "provenance": [],
      "gpuType": "V28",
      "authorship_tag": "ABX9TyOCODh8e15kx3ZCbkS3I5vQ",
      "include_colab_link": true
    },
    "kernelspec": {
      "name": "python3",
      "display_name": "Python 3"
    },
    "language_info": {
      "name": "python"
    },
    "accelerator": "TPU"
  },
  "cells": [
    {
      "cell_type": "markdown",
      "metadata": {
        "id": "view-in-github",
        "colab_type": "text"
      },
      "source": [
        "<a href=\"https://colab.research.google.com/github/AhsanAbir001/ML-Lab-EWU/blob/main/cse475_CNN.ipynb\" target=\"_parent\"><img src=\"https://colab.research.google.com/assets/colab-badge.svg\" alt=\"Open In Colab\"/></a>"
      ]
    },
    {
      "cell_type": "code",
      "source": [
        "from google.colab import drive"
      ],
      "metadata": {
        "id": "lsCjlSd7Dx-Z"
      },
      "execution_count": null,
      "outputs": []
    },
    {
      "cell_type": "code",
      "execution_count": null,
      "metadata": {
        "colab": {
          "base_uri": "https://localhost:8080/"
        },
        "id": "AlCkHfttW6HG",
        "outputId": "ccefae94-922f-491a-b2f4-fd3c9346f4c5"
      },
      "outputs": [
        {
          "output_type": "stream",
          "name": "stdout",
          "text": [
            "Drive already mounted at /content/drive; to attempt to forcibly remount, call drive.mount(\"/content/drive\", force_remount=True).\n"
          ]
        }
      ],
      "source": [
        "from google.colab import drive\n",
        "drive.mount('/content/drive')"
      ]
    },
    {
      "cell_type": "code",
      "source": [
        "!pip install -q keras"
      ],
      "metadata": {
        "id": "m3xJHL34D3G7"
      },
      "execution_count": null,
      "outputs": []
    },
    {
      "cell_type": "code",
      "source": [
        "pip install split-folders"
      ],
      "metadata": {
        "colab": {
          "base_uri": "https://localhost:8080/"
        },
        "id": "d0Y6BMVaEAgL",
        "outputId": "3383205e-9515-4c86-e337-f61d4af1e682"
      },
      "execution_count": null,
      "outputs": [
        {
          "output_type": "stream",
          "name": "stdout",
          "text": [
            "Collecting split-folders\n",
            "  Downloading split_folders-0.5.1-py3-none-any.whl.metadata (6.2 kB)\n",
            "Downloading split_folders-0.5.1-py3-none-any.whl (8.4 kB)\n",
            "Installing collected packages: split-folders\n",
            "Successfully installed split-folders-0.5.1\n"
          ]
        }
      ]
    },
    {
      "cell_type": "code",
      "source": [
        "import keras\n",
        "from keras.layers import LeakyReLU\n",
        "import splitfolders\n",
        "from keras.layers import*\n",
        "from keras.models import*\n",
        "from keras.preprocessing import image\n",
        "from keras.preprocessing.image import ImageDataGenerator"
      ],
      "metadata": {
        "id": "lAlenB2SEFAX"
      },
      "execution_count": null,
      "outputs": []
    },
    {
      "cell_type": "code",
      "source": [
        "import os\n",
        "import numpy as np\n",
        "import cv2\n",
        "import matplotlib.pyplot as plt\n",
        "import tensorflow as tf"
      ],
      "metadata": {
        "id": "0gyH0YMEELh2"
      },
      "execution_count": null,
      "outputs": []
    },
    {
      "cell_type": "code",
      "source": [
        "data = []\n",
        "\n",
        "path = '/content/drive/MyDrive/cropdata'"
      ],
      "metadata": {
        "id": "8tcaZ8uvEO1U"
      },
      "execution_count": null,
      "outputs": []
    },
    {
      "cell_type": "code",
      "source": [
        "splitfolders.ratio(path,output=\"/content/drive/MyDrive/datab\",seed=58, ratio=(.8, .1,.1), group_prefix=None, move=False)"
      ],
      "metadata": {
        "colab": {
          "base_uri": "https://localhost:8080/"
        },
        "id": "MgbU_yVZEf7d",
        "outputId": "734ac888-5347-4ed8-904d-459668df1174"
      },
      "execution_count": null,
      "outputs": [
        {
          "output_type": "stream",
          "name": "stderr",
          "text": [
            "Copying files: 25220 files [10:59, 38.25 files/s]\n"
          ]
        }
      ]
    },
    {
      "cell_type": "code",
      "source": [],
      "metadata": {
        "id": "AjoFMaUrTp6H"
      },
      "execution_count": null,
      "outputs": []
    },
    {
      "cell_type": "markdown",
      "source": [
        "T1"
      ],
      "metadata": {
        "id": "HBxMbvwATn_f"
      }
    },
    {
      "cell_type": "code",
      "source": [
        "# Data augmentation\n",
        "train=ImageDataGenerator(rescale=1/255)\n",
        "val=ImageDataGenerator(rescale=1/255)\n",
        "\n",
        "# Load datasets\n",
        "train_dataset=train.flow_from_directory('/content/drive/MyDrive/datab/train',target_size=(250,250), batch_size=64,class_mode='categorical')\n",
        "validation_dataset = val.flow_from_directory('/content/drive/MyDrive/datab/val', target_size=(250,250), batch_size=32,class_mode='categorical')"
      ],
      "metadata": {
        "colab": {
          "base_uri": "https://localhost:8080/"
        },
        "id": "twR8mfwbIsPM",
        "outputId": "7983f6e2-2de1-42c9-eb43-536686a606e6"
      },
      "execution_count": null,
      "outputs": [
        {
          "output_type": "stream",
          "name": "stdout",
          "text": [
            "Found 20168 images belonging to 22 classes.\n",
            "Found 2511 images belonging to 22 classes.\n"
          ]
        }
      ]
    },
    {
      "cell_type": "code",
      "source": [
        "train_dataset.class_indices\n",
        "validation_dataset.class_indices"
      ],
      "metadata": {
        "colab": {
          "base_uri": "https://localhost:8080/"
        },
        "collapsed": true,
        "id": "t-n6mgbQPbCr",
        "outputId": "56a513fb-e2bb-4cee-ccc5-cdcbcd82c3be"
      },
      "execution_count": null,
      "outputs": [
        {
          "output_type": "execute_result",
          "data": {
            "text/plain": [
              "{'Cashew anthracnose': 0,\n",
              " 'Cashew gumosis': 1,\n",
              " 'Cashew healthy': 2,\n",
              " 'Cashew leaf miner': 3,\n",
              " 'Cashew red rust': 4,\n",
              " 'Cassava bacterial blight': 5,\n",
              " 'Cassava brown spot': 6,\n",
              " 'Cassava green mite': 7,\n",
              " 'Cassava healthy': 8,\n",
              " 'Cassava mosaic': 9,\n",
              " 'Maize fall armyworm': 10,\n",
              " 'Maize grasshoper': 11,\n",
              " 'Maize healthy': 12,\n",
              " 'Maize leaf beetle': 13,\n",
              " 'Maize leaf blight': 14,\n",
              " 'Maize leaf spot': 15,\n",
              " 'Maize streak virus': 16,\n",
              " 'Tomato healthy': 17,\n",
              " 'Tomato leaf blight': 18,\n",
              " 'Tomato leaf curl': 19,\n",
              " 'Tomato septoria leaf spot': 20,\n",
              " 'Tomato verticulium wilt': 21}"
            ]
          },
          "metadata": {},
          "execution_count": 35
        }
      ]
    },
    {
      "cell_type": "markdown",
      "source": [
        "Train"
      ],
      "metadata": {
        "id": "gPvSgxqEKPPy"
      }
    },
    {
      "cell_type": "code",
      "source": [
        "model = Sequential()\n",
        "\n",
        "model.add(Conv2D(filters=8, kernel_size=(7,7), padding='same', activation='relu', input_shape=(250, 250, 3)))\n",
        "model.add(Conv2D(filters=8, kernel_size=(7,7), padding='same', activation='relu'))\n",
        "model.add(MaxPooling2D(pool_size=(2,2)))\n",
        "\n",
        "model.add(Conv2D(filters=16, kernel_size=(5,5), padding='same', activation='relu'))\n",
        "model.add(Conv2D(filters=16, kernel_size=(5,5), padding='same', activation='relu'))\n",
        "model.add(MaxPooling2D(pool_size=(2,2)))\n",
        "\n",
        "model.add(Conv2D(filters=32, kernel_size=(3,3), padding='same', activation='relu'))\n",
        "model.add(Conv2D(filters=32, kernel_size=(3,3), padding='same', activation='relu'))\n",
        "model.add(MaxPooling2D(pool_size=(2,2)))\n",
        "\n",
        "model.add(Conv2D(filters=64, kernel_size=(3,3), padding='same', activation='relu'))\n",
        "model.add(Conv2D(filters=64, kernel_size=(3,3), padding='same', activation='relu'))\n",
        "model.add(MaxPooling2D(pool_size=(2,2)))\n",
        "\n",
        "model.add(Conv2D(filters=128, kernel_size=(3,3), padding='same', activation='relu'))\n",
        "model.add(Conv2D(filters=128, kernel_size=(3,3), padding='same', activation='relu'))\n",
        "model.add(MaxPooling2D(pool_size=(2,2)))\n",
        "\n",
        "model.add(Flatten())\n",
        "model.add(Dense(128, activation='relu'))\n",
        "model.add(Dropout(0.2))\n",
        "model.add(Dense(256, activation='relu'))\n",
        "model.add(Dropout(0.2))\n",
        "model.add(Dense(14, activation='softmax'))\n",
        "\n",
        "optimizer = tf.keras.optimizers.Adam(learning_rate=0.001)\n",
        "\n",
        "model.compile(loss=keras.losses.categorical_crossentropy,optimizer=optimizer,metrics=['accuracy',tf.keras.metrics.Recall(),tf.keras.metrics.Precision()])"
      ],
      "metadata": {
        "id": "0-4WFClcYnNw"
      },
      "execution_count": null,
      "outputs": []
    }
  ]
}